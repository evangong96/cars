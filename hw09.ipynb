{
 "cells": [
  {
   "cell_type": "markdown",
   "metadata": {},
   "source": [
    "# Cars and Fuel Usage\n",
    "## By: Evan Gong\n",
    "This is a dataset about cars and how much fuel they use."
   ]
  },
  {
   "cell_type": "code",
   "execution_count": 1,
   "metadata": {},
   "outputs": [],
   "source": [
    "from datascience import *\n",
    "import numpy as np\n",
    "Table.interactive_plots()\n"
   ]
  },
  {
   "cell_type": "code",
   "execution_count": 2,
   "metadata": {},
   "outputs": [
    {
     "data": {
      "text/html": [
       "<table border=\"1\" class=\"dataframe\">\n",
       "    <thead>\n",
       "        <tr>\n",
       "            <th>Dimensions.Height</th> <th>Dimensions.Length</th> <th>Dimensions.Width</th> <th>Engine Information.Driveline</th> <th>Engine Information.Engine Type</th> <th>Engine Information.Hybrid</th> <th>Engine Information.Number of Forward Gears</th> <th>Engine Information.Transmission</th> <th>Fuel Information.City mpg</th> <th>Fuel Information.Fuel Type</th> <th>Fuel Information.Highway mpg</th> <th>Identification.Classification</th> <th>Identification.ID</th> <th>Identification.Make</th> <th>Identification.Model Year</th> <th>Identification.Year</th> <th>Engine Information.Engine Statistics.Horsepower</th> <th>Engine Information.Engine Statistics.Torque</th>\n",
       "        </tr>\n",
       "    </thead>\n",
       "    <tbody>\n",
       "        <tr>\n",
       "            <td>140              </td> <td>143              </td> <td>202             </td> <td>All-wheel drive             </td> <td>Audi 3.2L 6 cylinder 250hp 236ft-lbs        </td> <td>True                     </td> <td>6                                         </td> <td>6 Speed Automatic Select Shift </td> <td>18                       </td> <td>Gasoline                  </td> <td>25                          </td> <td>Automatic transmission       </td> <td>2009 Audi A3 3.2                </td> <td>Audi               </td> <td>2009 Audi A3             </td> <td>2009               </td> <td>250                                            </td> <td>236                                        </td>\n",
       "        </tr>\n",
       "        <tr>\n",
       "            <td>140              </td> <td>143              </td> <td>202             </td> <td>Front-wheel drive           </td> <td>Audi 2.0L 4 cylinder 200 hp 207 ft-lbs Turbo</td> <td>True                     </td> <td>6                                         </td> <td>6 Speed Automatic Select Shift </td> <td>22                       </td> <td>Gasoline                  </td> <td>28                          </td> <td>Automatic transmission       </td> <td>2009 Audi A3 2.0 T AT           </td> <td>Audi               </td> <td>2009 Audi A3             </td> <td>2009               </td> <td>200                                            </td> <td>207                                        </td>\n",
       "        </tr>\n",
       "        <tr>\n",
       "            <td>140              </td> <td>143              </td> <td>202             </td> <td>Front-wheel drive           </td> <td>Audi 2.0L 4 cylinder 200 hp 207 ft-lbs Turbo</td> <td>True                     </td> <td>6                                         </td> <td>6 Speed Manual                 </td> <td>21                       </td> <td>Gasoline                  </td> <td>30                          </td> <td>Manual transmission          </td> <td>2009 Audi A3 2.0 T              </td> <td>Audi               </td> <td>2009 Audi A3             </td> <td>2009               </td> <td>200                                            </td> <td>207                                        </td>\n",
       "        </tr>\n",
       "        <tr>\n",
       "            <td>140              </td> <td>143              </td> <td>202             </td> <td>All-wheel drive             </td> <td>Audi 2.0L 4 cylinder 200 hp 207 ft-lbs Turbo</td> <td>True                     </td> <td>6                                         </td> <td>6 Speed Automatic Select Shift </td> <td>21                       </td> <td>Gasoline                  </td> <td>28                          </td> <td>Automatic transmission       </td> <td>2009 Audi A3 2.0 T Quattro      </td> <td>Audi               </td> <td>2009 Audi A3             </td> <td>2009               </td> <td>200                                            </td> <td>207                                        </td>\n",
       "        </tr>\n",
       "        <tr>\n",
       "            <td>140              </td> <td>143              </td> <td>202             </td> <td>All-wheel drive             </td> <td>Audi 2.0L 4 cylinder 200 hp 207 ft-lbs Turbo</td> <td>True                     </td> <td>6                                         </td> <td>6 Speed Automatic Select Shift </td> <td>21                       </td> <td>Gasoline                  </td> <td>28                          </td> <td>Automatic transmission       </td> <td>2009 Audi A3 2.0 T Quattro      </td> <td>Audi               </td> <td>2009 Audi A3             </td> <td>2009               </td> <td>200                                            </td> <td>207                                        </td>\n",
       "        </tr>\n",
       "        <tr>\n",
       "            <td>91               </td> <td>17               </td> <td>62              </td> <td>All-wheel drive             </td> <td>Audi 3.2L 6 cylinder 265hp 243 ft-lbs       </td> <td>True                     </td> <td>6                                         </td> <td>6 Speed Manual                 </td> <td>16                       </td> <td>Gasoline                  </td> <td>27                          </td> <td>Manual transmission          </td> <td>2009 Audi A5 3.2                </td> <td>Audi               </td> <td>2009 Audi A5             </td> <td>2009               </td> <td>265                                            </td> <td>243                                        </td>\n",
       "        </tr>\n",
       "        <tr>\n",
       "            <td>91               </td> <td>17               </td> <td>62              </td> <td>All-wheel drive             </td> <td>Audi 3.2L 6 cylinder 265hp 243 ft-lbs       </td> <td>True                     </td> <td>6                                         </td> <td>6 Speed Automatic Select Shift </td> <td>17                       </td> <td>Gasoline                  </td> <td>26                          </td> <td>Automatic transmission       </td> <td>2009 Audi A5 3.2 AT             </td> <td>Audi               </td> <td>2009 Audi A5             </td> <td>2009               </td> <td>265                                            </td> <td>243                                        </td>\n",
       "        </tr>\n",
       "        <tr>\n",
       "            <td>201              </td> <td>221              </td> <td>191             </td> <td>All-wheel drive             </td> <td>Audi 4.2L 8 cylinder 350 hp 325 ft-lbs      </td> <td>True                     </td> <td>6                                         </td> <td>6 Speed Automatic Select Shift </td> <td>13                       </td> <td>Gasoline                  </td> <td>18                          </td> <td>Automatic transmission       </td> <td>2009 Audi Q7 4.2                </td> <td>Audi               </td> <td>2009 Audi Q7             </td> <td>2009               </td> <td>350                                            </td> <td>325                                        </td>\n",
       "        </tr>\n",
       "        <tr>\n",
       "            <td>201              </td> <td>221              </td> <td>191             </td> <td>All-wheel drive             </td> <td>Audi 3.6L 6 cylinder 280hp 266 ft-lbs       </td> <td>True                     </td> <td>6                                         </td> <td>6 Speed Automatic Select Shift </td> <td>14                       </td> <td>Gasoline                  </td> <td>20                          </td> <td>Automatic transmission       </td> <td>2009 Audi Q7 3.6                </td> <td>Audi               </td> <td>2009 Audi Q7             </td> <td>2009               </td> <td>280                                            </td> <td>266                                        </td>\n",
       "        </tr>\n",
       "        <tr>\n",
       "            <td>147              </td> <td>96               </td> <td>34              </td> <td>All-wheel drive             </td> <td>Audi 2.0L 4 cylinder 211 hp 258 ft-lbs Turbo</td> <td>True                     </td> <td>6                                         </td> <td>6 Speed Manual                 </td> <td>22                       </td> <td>Gasoline                  </td> <td>30                          </td> <td>Manual transmission          </td> <td>2009 Audi A4 Sedan 2.0 T Quattro</td> <td>Audi               </td> <td>2009 Audi A4 Sedan       </td> <td>2009               </td> <td>211                                            </td> <td>258                                        </td>\n",
       "        </tr>\n",
       "    </tbody>\n",
       "</table>\n",
       "<p>... (5066 rows omitted)</p>"
      ],
      "text/plain": [
       "Dimensions.Height | Dimensions.Length | Dimensions.Width | Engine Information.Driveline | Engine Information.Engine Type               | Engine Information.Hybrid | Engine Information.Number of Forward Gears | Engine Information.Transmission | Fuel Information.City mpg | Fuel Information.Fuel Type | Fuel Information.Highway mpg | Identification.Classification | Identification.ID                | Identification.Make | Identification.Model Year | Identification.Year | Engine Information.Engine Statistics.Horsepower | Engine Information.Engine Statistics.Torque\n",
       "140               | 143               | 202              | All-wheel drive              | Audi 3.2L 6 cylinder 250hp 236ft-lbs         | True                      | 6                                          | 6 Speed Automatic Select Shift  | 18                        | Gasoline                   | 25                           | Automatic transmission        | 2009 Audi A3 3.2                 | Audi                | 2009 Audi A3              | 2009                | 250                                             | 236\n",
       "140               | 143               | 202              | Front-wheel drive            | Audi 2.0L 4 cylinder 200 hp 207 ft-lbs Turbo | True                      | 6                                          | 6 Speed Automatic Select Shift  | 22                        | Gasoline                   | 28                           | Automatic transmission        | 2009 Audi A3 2.0 T AT            | Audi                | 2009 Audi A3              | 2009                | 200                                             | 207\n",
       "140               | 143               | 202              | Front-wheel drive            | Audi 2.0L 4 cylinder 200 hp 207 ft-lbs Turbo | True                      | 6                                          | 6 Speed Manual                  | 21                        | Gasoline                   | 30                           | Manual transmission           | 2009 Audi A3 2.0 T               | Audi                | 2009 Audi A3              | 2009                | 200                                             | 207\n",
       "140               | 143               | 202              | All-wheel drive              | Audi 2.0L 4 cylinder 200 hp 207 ft-lbs Turbo | True                      | 6                                          | 6 Speed Automatic Select Shift  | 21                        | Gasoline                   | 28                           | Automatic transmission        | 2009 Audi A3 2.0 T Quattro       | Audi                | 2009 Audi A3              | 2009                | 200                                             | 207\n",
       "140               | 143               | 202              | All-wheel drive              | Audi 2.0L 4 cylinder 200 hp 207 ft-lbs Turbo | True                      | 6                                          | 6 Speed Automatic Select Shift  | 21                        | Gasoline                   | 28                           | Automatic transmission        | 2009 Audi A3 2.0 T Quattro       | Audi                | 2009 Audi A3              | 2009                | 200                                             | 207\n",
       "91                | 17                | 62               | All-wheel drive              | Audi 3.2L 6 cylinder 265hp 243 ft-lbs        | True                      | 6                                          | 6 Speed Manual                  | 16                        | Gasoline                   | 27                           | Manual transmission           | 2009 Audi A5 3.2                 | Audi                | 2009 Audi A5              | 2009                | 265                                             | 243\n",
       "91                | 17                | 62               | All-wheel drive              | Audi 3.2L 6 cylinder 265hp 243 ft-lbs        | True                      | 6                                          | 6 Speed Automatic Select Shift  | 17                        | Gasoline                   | 26                           | Automatic transmission        | 2009 Audi A5 3.2 AT              | Audi                | 2009 Audi A5              | 2009                | 265                                             | 243\n",
       "201               | 221               | 191              | All-wheel drive              | Audi 4.2L 8 cylinder 350 hp 325 ft-lbs       | True                      | 6                                          | 6 Speed Automatic Select Shift  | 13                        | Gasoline                   | 18                           | Automatic transmission        | 2009 Audi Q7 4.2                 | Audi                | 2009 Audi Q7              | 2009                | 350                                             | 325\n",
       "201               | 221               | 191              | All-wheel drive              | Audi 3.6L 6 cylinder 280hp 266 ft-lbs        | True                      | 6                                          | 6 Speed Automatic Select Shift  | 14                        | Gasoline                   | 20                           | Automatic transmission        | 2009 Audi Q7 3.6                 | Audi                | 2009 Audi Q7              | 2009                | 280                                             | 266\n",
       "147               | 96                | 34               | All-wheel drive              | Audi 2.0L 4 cylinder 211 hp 258 ft-lbs Turbo | True                      | 6                                          | 6 Speed Manual                  | 22                        | Gasoline                   | 30                           | Manual transmission           | 2009 Audi A4 Sedan 2.0 T Quattro | Audi                | 2009 Audi A4 Sedan        | 2009                | 211                                             | 258\n",
       "... (5066 rows omitted)"
      ]
     },
     "execution_count": 2,
     "metadata": {},
     "output_type": "execute_result"
    }
   ],
   "source": [
    "cars=Table.read_table('cars.csv')\n",
    "cars"
   ]
  },
  {
   "cell_type": "code",
   "execution_count": 3,
   "metadata": {},
   "outputs": [
    {
     "data": {
      "text/html": [
       "<table border=\"1\" class=\"dataframe\">\n",
       "    <thead>\n",
       "        <tr>\n",
       "            <th>Make</th> <th>Model</th> <th>City MPG</th> <th>Highway MPG</th> <th>Fuel Type</th> <th>Horsepower</th>\n",
       "        </tr>\n",
       "    </thead>\n",
       "    <tbody>\n",
       "        <tr>\n",
       "            <td>Audi</td> <td>2009 Audi A3 3.2                </td> <td>18      </td> <td>25         </td> <td>Gasoline </td> <td>250       </td>\n",
       "        </tr>\n",
       "        <tr>\n",
       "            <td>Audi</td> <td>2009 Audi A3 2.0 T AT           </td> <td>22      </td> <td>28         </td> <td>Gasoline </td> <td>200       </td>\n",
       "        </tr>\n",
       "        <tr>\n",
       "            <td>Audi</td> <td>2009 Audi A3 2.0 T              </td> <td>21      </td> <td>30         </td> <td>Gasoline </td> <td>200       </td>\n",
       "        </tr>\n",
       "        <tr>\n",
       "            <td>Audi</td> <td>2009 Audi A3 2.0 T Quattro      </td> <td>21      </td> <td>28         </td> <td>Gasoline </td> <td>200       </td>\n",
       "        </tr>\n",
       "        <tr>\n",
       "            <td>Audi</td> <td>2009 Audi A3 2.0 T Quattro      </td> <td>21      </td> <td>28         </td> <td>Gasoline </td> <td>200       </td>\n",
       "        </tr>\n",
       "        <tr>\n",
       "            <td>Audi</td> <td>2009 Audi A5 3.2                </td> <td>16      </td> <td>27         </td> <td>Gasoline </td> <td>265       </td>\n",
       "        </tr>\n",
       "        <tr>\n",
       "            <td>Audi</td> <td>2009 Audi A5 3.2 AT             </td> <td>17      </td> <td>26         </td> <td>Gasoline </td> <td>265       </td>\n",
       "        </tr>\n",
       "        <tr>\n",
       "            <td>Audi</td> <td>2009 Audi Q7 4.2                </td> <td>13      </td> <td>18         </td> <td>Gasoline </td> <td>350       </td>\n",
       "        </tr>\n",
       "        <tr>\n",
       "            <td>Audi</td> <td>2009 Audi Q7 3.6                </td> <td>14      </td> <td>20         </td> <td>Gasoline </td> <td>280       </td>\n",
       "        </tr>\n",
       "        <tr>\n",
       "            <td>Audi</td> <td>2009 Audi A4 Sedan 2.0 T Quattro</td> <td>22      </td> <td>30         </td> <td>Gasoline </td> <td>211       </td>\n",
       "        </tr>\n",
       "    </tbody>\n",
       "</table>\n",
       "<p>... (5066 rows omitted)</p>"
      ],
      "text/plain": [
       "Make | Model                            | City MPG | Highway MPG | Fuel Type | Horsepower\n",
       "Audi | 2009 Audi A3 3.2                 | 18       | 25          | Gasoline  | 250\n",
       "Audi | 2009 Audi A3 2.0 T AT            | 22       | 28          | Gasoline  | 200\n",
       "Audi | 2009 Audi A3 2.0 T               | 21       | 30          | Gasoline  | 200\n",
       "Audi | 2009 Audi A3 2.0 T Quattro       | 21       | 28          | Gasoline  | 200\n",
       "Audi | 2009 Audi A3 2.0 T Quattro       | 21       | 28          | Gasoline  | 200\n",
       "Audi | 2009 Audi A5 3.2                 | 16       | 27          | Gasoline  | 265\n",
       "Audi | 2009 Audi A5 3.2 AT              | 17       | 26          | Gasoline  | 265\n",
       "Audi | 2009 Audi Q7 4.2                 | 13       | 18          | Gasoline  | 350\n",
       "Audi | 2009 Audi Q7 3.6                 | 14       | 20          | Gasoline  | 280\n",
       "Audi | 2009 Audi A4 Sedan 2.0 T Quattro | 22       | 30          | Gasoline  | 211\n",
       "... (5066 rows omitted)"
      ]
     },
     "execution_count": 3,
     "metadata": {},
     "output_type": "execute_result"
    }
   ],
   "source": [
    "cars_updated = cars.select('Identification.Make','Identification.ID', 'Fuel Information.City mpg','Fuel Information.Highway mpg','Fuel Information.Fuel Type','Engine Information.Engine Statistics.Horsepower') \\\n",
    "                .relabeled('Identification.Make', 'Make') \\\n",
    "                .relabeled('Identification.ID', 'Model') \\\n",
    "                .relabeled('Fuel Information.City mpg', 'City MPG') \\\n",
    "                .relabeled('Fuel Information.Highway mpg', 'Highway MPG') \\\n",
    "                .relabeled('Fuel Information.Fuel Type', 'Fuel Type') \\\n",
    "                .relabeled('Engine Information.Engine Statistics.Horsepower','Horsepower')\n",
    "cars_updated"
   ]
  },
  {
   "cell_type": "code",
   "execution_count": 4,
   "metadata": {},
   "outputs": [
    {
     "data": {
      "text/html": [
       "<table border=\"1\" class=\"dataframe\">\n",
       "    <thead>\n",
       "        <tr>\n",
       "            <th>Make</th> <th>count</th>\n",
       "        </tr>\n",
       "    </thead>\n",
       "    <tbody>\n",
       "        <tr>\n",
       "            <td>Bentley       </td> <td>5    </td>\n",
       "        </tr>\n",
       "        <tr>\n",
       "            <td>Buick         </td> <td>11   </td>\n",
       "        </tr>\n",
       "        <tr>\n",
       "            <td>Cadillac      </td> <td>30   </td>\n",
       "        </tr>\n",
       "        <tr>\n",
       "            <td>Chevrolet     </td> <td>92   </td>\n",
       "        </tr>\n",
       "        <tr>\n",
       "            <td>Chrysler      </td> <td>6    </td>\n",
       "        </tr>\n",
       "        <tr>\n",
       "            <td>Dodge         </td> <td>36   </td>\n",
       "        </tr>\n",
       "        <tr>\n",
       "            <td>Ford          </td> <td>115  </td>\n",
       "        </tr>\n",
       "        <tr>\n",
       "            <td>GMC           </td> <td>104  </td>\n",
       "        </tr>\n",
       "        <tr>\n",
       "            <td>Grand Cherokee</td> <td>7    </td>\n",
       "        </tr>\n",
       "        <tr>\n",
       "            <td>Lincoln       </td> <td>9    </td>\n",
       "        </tr>\n",
       "    </tbody>\n",
       "</table>\n",
       "<p>... (7 rows omitted)</p>"
      ],
      "text/plain": [
       "Make           | count\n",
       "Bentley        | 5\n",
       "Buick          | 11\n",
       "Cadillac       | 30\n",
       "Chevrolet      | 92\n",
       "Chrysler       | 6\n",
       "Dodge          | 36\n",
       "Ford           | 115\n",
       "GMC            | 104\n",
       "Grand Cherokee | 7\n",
       "Lincoln        | 9\n",
       "... (7 rows omitted)"
      ]
     },
     "execution_count": 4,
     "metadata": {},
     "output_type": "execute_result"
    }
   ],
   "source": [
    "cars_updated.where('Fuel Type','E85').group('Make')"
   ]
  },
  {
   "cell_type": "code",
   "execution_count": 5,
   "metadata": {},
   "outputs": [
    {
     "data": {
      "text/plain": [
       "array([18, 22, 21, ..., 12, 17, 17])"
      ]
     },
     "execution_count": 5,
     "metadata": {},
     "output_type": "execute_result"
    }
   ],
   "source": [
    "cars_updated.column('City MPG')"
   ]
  },
  {
   "cell_type": "code",
   "execution_count": null,
   "metadata": {},
   "outputs": [],
   "source": []
  },
  {
   "cell_type": "code",
   "execution_count": 6,
   "metadata": {},
   "outputs": [
    {
     "data": {
      "text/plain": [
       "array([25, 28, 30, ..., 20, 25, 25])"
      ]
     },
     "execution_count": 6,
     "metadata": {},
     "output_type": "execute_result"
    }
   ],
   "source": [
    "cars_updated.column('Highway MPG')"
   ]
  },
  {
   "cell_type": "code",
   "execution_count": 7,
   "metadata": {},
   "outputs": [],
   "source": [
    "combined_mpg=0.55*cars_updated.column('City MPG')+0.45*cars_updated.column('Highway MPG')"
   ]
  },
  {
   "cell_type": "code",
   "execution_count": 8,
   "metadata": {},
   "outputs": [],
   "source": [
    "cars_updated2=cars_updated.with_column('Combined City/Highway MPG',combined_mpg)"
   ]
  },
  {
   "cell_type": "code",
   "execution_count": 9,
   "metadata": {},
   "outputs": [
    {
     "data": {
      "text/html": [
       "<table border=\"1\" class=\"dataframe\">\n",
       "    <thead>\n",
       "        <tr>\n",
       "            <th>Make</th> <th>Model</th> <th>City MPG</th> <th>Highway MPG</th> <th>Fuel Type</th> <th>Horsepower</th>\n",
       "        </tr>\n",
       "    </thead>\n",
       "    <tbody>\n",
       "        <tr>\n",
       "            <td>Audi</td> <td>2009 Audi A3 3.2                </td> <td>18      </td> <td>25         </td> <td>Gasoline </td> <td>250       </td>\n",
       "        </tr>\n",
       "        <tr>\n",
       "            <td>Audi</td> <td>2009 Audi A3 2.0 T AT           </td> <td>22      </td> <td>28         </td> <td>Gasoline </td> <td>200       </td>\n",
       "        </tr>\n",
       "        <tr>\n",
       "            <td>Audi</td> <td>2009 Audi A3 2.0 T              </td> <td>21      </td> <td>30         </td> <td>Gasoline </td> <td>200       </td>\n",
       "        </tr>\n",
       "        <tr>\n",
       "            <td>Audi</td> <td>2009 Audi A3 2.0 T Quattro      </td> <td>21      </td> <td>28         </td> <td>Gasoline </td> <td>200       </td>\n",
       "        </tr>\n",
       "        <tr>\n",
       "            <td>Audi</td> <td>2009 Audi A3 2.0 T Quattro      </td> <td>21      </td> <td>28         </td> <td>Gasoline </td> <td>200       </td>\n",
       "        </tr>\n",
       "        <tr>\n",
       "            <td>Audi</td> <td>2009 Audi A5 3.2                </td> <td>16      </td> <td>27         </td> <td>Gasoline </td> <td>265       </td>\n",
       "        </tr>\n",
       "        <tr>\n",
       "            <td>Audi</td> <td>2009 Audi A5 3.2 AT             </td> <td>17      </td> <td>26         </td> <td>Gasoline </td> <td>265       </td>\n",
       "        </tr>\n",
       "        <tr>\n",
       "            <td>Audi</td> <td>2009 Audi Q7 4.2                </td> <td>13      </td> <td>18         </td> <td>Gasoline </td> <td>350       </td>\n",
       "        </tr>\n",
       "        <tr>\n",
       "            <td>Audi</td> <td>2009 Audi Q7 3.6                </td> <td>14      </td> <td>20         </td> <td>Gasoline </td> <td>280       </td>\n",
       "        </tr>\n",
       "        <tr>\n",
       "            <td>Audi</td> <td>2009 Audi A4 Sedan 2.0 T Quattro</td> <td>22      </td> <td>30         </td> <td>Gasoline </td> <td>211       </td>\n",
       "        </tr>\n",
       "    </tbody>\n",
       "</table>\n",
       "<p>... (5066 rows omitted)</p>"
      ],
      "text/plain": [
       "Make | Model                            | City MPG | Highway MPG | Fuel Type | Horsepower\n",
       "Audi | 2009 Audi A3 3.2                 | 18       | 25          | Gasoline  | 250\n",
       "Audi | 2009 Audi A3 2.0 T AT            | 22       | 28          | Gasoline  | 200\n",
       "Audi | 2009 Audi A3 2.0 T               | 21       | 30          | Gasoline  | 200\n",
       "Audi | 2009 Audi A3 2.0 T Quattro       | 21       | 28          | Gasoline  | 200\n",
       "Audi | 2009 Audi A3 2.0 T Quattro       | 21       | 28          | Gasoline  | 200\n",
       "Audi | 2009 Audi A5 3.2                 | 16       | 27          | Gasoline  | 265\n",
       "Audi | 2009 Audi A5 3.2 AT              | 17       | 26          | Gasoline  | 265\n",
       "Audi | 2009 Audi Q7 4.2                 | 13       | 18          | Gasoline  | 350\n",
       "Audi | 2009 Audi Q7 3.6                 | 14       | 20          | Gasoline  | 280\n",
       "Audi | 2009 Audi A4 Sedan 2.0 T Quattro | 22       | 30          | Gasoline  | 211\n",
       "... (5066 rows omitted)"
      ]
     },
     "execution_count": 9,
     "metadata": {},
     "output_type": "execute_result"
    }
   ],
   "source": [
    "cars_updated"
   ]
  },
  {
   "cell_type": "code",
   "execution_count": 10,
   "metadata": {},
   "outputs": [
    {
     "data": {
      "text/html": [
       "<table border=\"1\" class=\"dataframe\">\n",
       "    <thead>\n",
       "        <tr>\n",
       "            <th>Make</th> <th>Model</th> <th>City MPG</th> <th>Highway MPG</th> <th>Fuel Type</th> <th>Horsepower</th> <th>Combined City/Highway MPG</th>\n",
       "        </tr>\n",
       "    </thead>\n",
       "    <tbody>\n",
       "        <tr>\n",
       "            <td>Ford</td> <td>2012 Ford Fiesta S Sedan      </td> <td>29      </td> <td>38         </td> <td>Gasoline </td> <td>120       </td> <td>33.05                    </td>\n",
       "        </tr>\n",
       "        <tr>\n",
       "            <td>Ford</td> <td>2012 Ford Fiesta SE Sedan     </td> <td>29      </td> <td>38         </td> <td>Gasoline </td> <td>120       </td> <td>33.05                    </td>\n",
       "        </tr>\n",
       "        <tr>\n",
       "            <td>Ford</td> <td>2012 Ford Fiesta SEL Sedan    </td> <td>29      </td> <td>38         </td> <td>Gasoline </td> <td>120       </td> <td>33.05                    </td>\n",
       "        </tr>\n",
       "        <tr>\n",
       "            <td>Ford</td> <td>2011 Ford Fiesta Sedan S      </td> <td>38      </td> <td>37         </td> <td>Gasoline </td> <td>120       </td> <td>37.55                    </td>\n",
       "        </tr>\n",
       "        <tr>\n",
       "            <td>Ford</td> <td>2011 Ford Fiesta Sedan SE     </td> <td>28      </td> <td>37         </td> <td>Gasoline </td> <td>120       </td> <td>32.05                    </td>\n",
       "        </tr>\n",
       "        <tr>\n",
       "            <td>Ford</td> <td>2011 Ford Fiesta Sedan SEL    </td> <td>28      </td> <td>37         </td> <td>Gasoline </td> <td>120       </td> <td>32.05                    </td>\n",
       "        </tr>\n",
       "        <tr>\n",
       "            <td>Ford</td> <td>2012 Ford Fiesta SE Hatchback </td> <td>29      </td> <td>38         </td> <td>Gasoline </td> <td>120       </td> <td>33.05                    </td>\n",
       "        </tr>\n",
       "        <tr>\n",
       "            <td>Ford</td> <td>2012 Ford Fiesta SES Hatchback</td> <td>29      </td> <td>38         </td> <td>Gasoline </td> <td>120       </td> <td>33.05                    </td>\n",
       "        </tr>\n",
       "        <tr>\n",
       "            <td>Ford</td> <td>2011 Ford Fiesta Hatchback SE </td> <td>28      </td> <td>37         </td> <td>Gasoline </td> <td>120       </td> <td>32.05                    </td>\n",
       "        </tr>\n",
       "        <tr>\n",
       "            <td>Ford</td> <td>2011 Ford Fiesta Hatchback SES</td> <td>28      </td> <td>37         </td> <td>Gasoline </td> <td>120       </td> <td>32.05                    </td>\n",
       "        </tr>\n",
       "    </tbody>\n",
       "</table>\n",
       "<p>... (593 rows omitted)</p>"
      ],
      "text/plain": [
       "Make | Model                          | City MPG | Highway MPG | Fuel Type | Horsepower | Combined City/Highway MPG\n",
       "Ford | 2012 Ford Fiesta S Sedan       | 29       | 38          | Gasoline  | 120        | 33.05\n",
       "Ford | 2012 Ford Fiesta SE Sedan      | 29       | 38          | Gasoline  | 120        | 33.05\n",
       "Ford | 2012 Ford Fiesta SEL Sedan     | 29       | 38          | Gasoline  | 120        | 33.05\n",
       "Ford | 2011 Ford Fiesta Sedan S       | 38       | 37          | Gasoline  | 120        | 37.55\n",
       "Ford | 2011 Ford Fiesta Sedan SE      | 28       | 37          | Gasoline  | 120        | 32.05\n",
       "Ford | 2011 Ford Fiesta Sedan SEL     | 28       | 37          | Gasoline  | 120        | 32.05\n",
       "Ford | 2012 Ford Fiesta SE Hatchback  | 29       | 38          | Gasoline  | 120        | 33.05\n",
       "Ford | 2012 Ford Fiesta SES Hatchback | 29       | 38          | Gasoline  | 120        | 33.05\n",
       "Ford | 2011 Ford Fiesta Hatchback SE  | 28       | 37          | Gasoline  | 120        | 32.05\n",
       "Ford | 2011 Ford Fiesta Hatchback SES | 28       | 37          | Gasoline  | 120        | 32.05\n",
       "... (593 rows omitted)"
      ]
     },
     "execution_count": 10,
     "metadata": {},
     "output_type": "execute_result"
    }
   ],
   "source": [
    "cars_updated2.where('Make','Ford')"
   ]
  },
  {
   "cell_type": "code",
   "execution_count": null,
   "metadata": {},
   "outputs": [],
   "source": []
  },
  {
   "cell_type": "code",
   "execution_count": null,
   "metadata": {},
   "outputs": [],
   "source": []
  },
  {
   "cell_type": "code",
   "execution_count": 11,
   "metadata": {},
   "outputs": [],
   "source": [
    "fig=cars_updated2.where('Make','Ford').scatter('Horsepower','Combined City/Highway MPG', group='Fuel Type',s=30,\n",
    "           yaxis_title = 'Combined MPG',\n",
    "           title = 'Relationship between Combined MPG and Horsepower for Ford Cars',\n",
    "           width = 800,\n",
    "           height = 500, show=False)\n",
    "\n"
   ]
  },
  {
   "cell_type": "code",
   "execution_count": 12,
   "metadata": {},
   "outputs": [
    {
     "name": "stdout",
     "output_type": "stream",
     "text": [
      "<div>                            <div id=\"83e620db-53b6-4ab6-9ed8-f38118029348\" class=\"plotly-graph-div\" style=\"height:500px; width:800px;\"></div>            <script type=\"text/javascript\">                                    window.PLOTLYENV=window.PLOTLYENV || {};                                    if (document.getElementById(\"83e620db-53b6-4ab6-9ed8-f38118029348\")) {                    Plotly.newPlot(                        \"83e620db-53b6-4ab6-9ed8-f38118029348\",                        [{\"marker\": {\"color\": \"rgb(0,30,66)\", \"size\": 7.5}, \"mode\": \"markers\", \"name\": \"Fuel Type=Diesel fuel\", \"showlegend\": true, \"textfont\": {\"color\": \"rgb(0,30,66)\"}, \"textposition\": \"bottom center\", \"type\": \"scatter\", \"x\": [210, 210], \"xaxis\": \"x\", \"y\": [20.700000000000003, 20.700000000000003], \"yaxis\": \"y\"}, {\"marker\": {\"color\": \"rgb(256,200,44)\", \"size\": 7.5}, \"mode\": \"markers\", \"name\": \"Fuel Type=Gasoline\", \"showlegend\": true, \"textfont\": {\"color\": \"rgb(0,30,66)\"}, \"textposition\": \"bottom center\", \"type\": \"scatter\", \"x\": [120, 120, 120, 120, 120, 120, 120, 120, 120, 120, 160, 160, 140, 140, 140, 140, 140, 140, 140, 140, 140, 140, 140, 140, 140, 140, 140, 140, 140, 140, 140, 175, 175, 175, 240, 175, 240, 263, 263, 175, 175, 175, 175, 263, 263, 175, 175, 175, 175, 240, 175, 263, 263, 175, 305, 305, 305, 305, 412, 412, 412, 412, 444, 305, 305, 305, 305, 412, 412, 412, 412, 305, 305, 305, 305, 412, 412, 412, 412, 305, 305, 305, 305, 412, 412, 412, 412, 210, 210, 210, 210, 315, 315, 315, 315, 210, 210, 210, 210, 315, 315, 315, 315, 550, 550, 550, 550, 550, 550, 263, 263, 263, 263, 263, 263, 263, 263, 263, 263, 263, 263, 263, 263, 263, 285, 285, 285, 285, 285, 305, 305, 285, 285, 285, 285, 285, 305, 305, 265, 265, 265, 265, 265, 265, 265, 265, 240, 240, 240, 262, 262, 262, 262, 262, 355, 262, 262, 355, 262, 262, 262, 355, 262, 262, 355, 262, 262, 355, 262, 262, 262, 355, 262, 262, 355, 171, 171, 171, 171, 171, 171, 171, 171, 171, 171, 171, 240, 171, 171, 240, 171, 171, 171, 171, 171, 240, 171, 171, 240, 171, 290, 240, 290, 290, 240, 290, 290, 240, 290, 290, 290, 290, 290, 290, 290, 210, 210, 210, 292, 210, 210, 292, 210, 210, 210, 292, 310, 310, 310, 310, 310, 310, 310, 310, 310, 310, 310, 310, 310, 310, 310, 136, 136, 136, 136, 136, 136, 136, 136, 136, 136, 136, 136, 143, 143, 143, 143, 143, 143, 207, 207, 143, 143, 207, 207, 207, 207, 207, 207, 207, 207, 143, 143, 143, 143, 143, 143, 143, 143, 207, 207, 207, 207, 207, 207, 207, 207, 207, 207, 207, 207, 225, 255, 255, 225, 255, 305, 255, 305, 255, 305, 255, 305, 255, 305, 255, 305, 255, 305, 305, 225, 255, 225, 225, 225, 225, 255, 225, 255, 255, 255, 225, 225, 225, 255, 305, 305, 255, 305, 255, 305, 255, 305, 305, 305, 305, 360, 365, 365, 365, 360, 365, 360, 365, 360, 365, 360, 365, 360, 365, 360, 365, 360, 365, 365, 360, 365, 411, 365, 411, 365, 365, 365, 411, 365, 411, 360, 365, 360, 365, 360, 302, 360, 302, 411, 411, 302, 360, 302, 365, 360, 365, 302, 365, 360, 365, 302, 360, 360, 365, 302, 365, 302, 365, 360, 360, 302, 302, 365, 360, 365, 365, 302, 365, 360, 365, 360, 365, 302, 365, 365, 360, 365, 360, 365, 411, 411, 411, 310, 310, 310, 248, 248, 292, 248, 292, 248, 292, 310, 248, 248, 248, 292, 248, 292, 310, 248, 292, 310, 248, 292, 248, 292, 248, 248, 292, 310, 248, 292, 292, 248, 292, 292, 248, 248, 310, 248, 292, 310, 248, 292, 310, 292, 292, 248, 292, 310, 292, 310, 292, 310, 292, 292, 292, 310, 411, 160, 160, 160, 160, 310, 310, 310, 310, 310, 310], \"xaxis\": \"x\", \"y\": [33.050000000000004, 33.050000000000004, 33.050000000000004, 37.550000000000004, 32.050000000000004, 32.050000000000004, 33.050000000000004, 33.050000000000004, 32.050000000000004, 32.050000000000004, 30.5, 30.5, 29.5, 29.050000000000004, 29.5, 29.050000000000004, 29.5, 29.050000000000004, 29.050000000000004, 28.950000000000003, 28.5, 28.950000000000003, 28.5, 28.950000000000003, 28.5, 28.950000000000003, 28.5, 28.950000000000003, 28.5, 28.950000000000003, 28.5, 26.5, 27.5, 27.5, 23.6, 27.5, 23.6, 22.05, 20.6, 25.150000000000002, 27.5, 25.150000000000002, 27.5, 22.05, 20.150000000000002, 27.5, 26.050000000000004, 27.950000000000003, 25.150000000000002, 22.6, 26.050000000000004, 22.05, 20.150000000000002, 26.050000000000004, 23.5, 24.400000000000002, 23.5, 24.400000000000002, 21.050000000000004, 21.15, 21.050000000000004, 21.15, 21.050000000000004, 23.950000000000003, 23.950000000000003, 23.950000000000003, 23.950000000000003, 23.950000000000003, 21.15, 23.950000000000003, 21.15, 23.5, 23.950000000000003, 23.5, 23.950000000000003, 21.050000000000004, 21.15, 21.050000000000004, 21.15, 23.5, 24.400000000000002, 23.5, 24.400000000000002, 21.050000000000004, 21.15, 21.050000000000004, 21.15, 21.6, 19.6, 21.6, 19.6, 19.6, 19.700000000000003, 19.6, 19.700000000000003, 21.6, 19.6, 21.6, 19.6, 19.6, 19.700000000000003, 19.6, 19.700000000000003, 18.6, 18.6, 18.6, 18.6, 18.6, 17.6, 22.5, 22.05, 21.050000000000004, 22.05, 21.050000000000004, 22.5, 22.05, 20.6, 22.05, 20.6, 22.5, 22.05, 20.6, 22.05, 20.6, 22.150000000000002, 22.150000000000002, 21.6, 22.150000000000002, 21.6, 21.15, 19.700000000000003, 22.6, 22.6, 21.15, 22.6, 21.15, 22.150000000000002, 19.700000000000003, 21.15, 19.700000000000003, 21.15, 19.700000000000003, 21.15, 19.700000000000003, 21.15, 19.700000000000003, 25.05, 25.05, 25.05, 20.150000000000002, 20.150000000000002, 19.15, 20.150000000000002, 19.15, 18.700000000000003, 20.150000000000002, 19.15, 18.700000000000003, 20.150000000000002, 20.150000000000002, 18.700000000000003, 18.700000000000003, 20.150000000000002, 18.700000000000003, 18.700000000000003, 20.150000000000002, 18.700000000000003, 18.700000000000003, 20.150000000000002, 20.150000000000002, 18.700000000000003, 18.700000000000003, 20.150000000000002, 18.700000000000003, 18.700000000000003, 25.25, 24.15, 23.15, 24.15, 23.15, 24.15, 23.15, 25.25, 24.15, 23.800000000000004, 24.15, 21.700000000000003, 23.800000000000004, 24.15, 21.700000000000003, 23.800000000000004, 24.700000000000003, 24.15, 23.800000000000004, 24.15, 21.700000000000003, 23.800000000000004, 24.15, 21.700000000000003, 23.800000000000004, 21.15, 23.6, 19.700000000000003, 21.15, 23.6, 19.700000000000003, 21.15, 23.6, 19.700000000000003, 20.6, 19.700000000000003, 20.6, 19.700000000000003, 20.6, 19.700000000000003, 16.700000000000003, 15.700000000000001, 15.700000000000001, 16.25, 16.700000000000003, 15.700000000000001, 16.25, 16.700000000000003, 15.700000000000001, 15.700000000000001, 16.25, 15.25, 15.25, 16.700000000000003, 15.25, 16.700000000000003, 16.700000000000003, 16.700000000000003, 16.700000000000003, 16.700000000000003, 14.25, 14.25, 14.25, 16.700000000000003, 14.25, 14.25, 23.700000000000003, 23.700000000000003, 24.25, 24.25, 23.25, 23.25, 23.25, 23.25, 23.35, 23.35, 23.35, 23.35, 24.25, 24.25, 21.25, 24.25, 24.25, 21.25, 18.25, 17.25, 24.25, 21.25, 16.8, 15.8, 18.25, 17.25, 18.25, 17.25, 16.8, 15.8, 24.25, 21.25, 24.25, 21.25, 24.25, 21.25, 24.25, 21.25, 17.700000000000003, 18.25, 17.700000000000003, 18.25, 16.8, 15.8, 17.700000000000003, 18.25, 17.700000000000003, 18.25, 16.8, 15.8, 14.350000000000001, 13.8, 13.8, 14.350000000000001, 13.350000000000001, 11.350000000000001, 12.8, 11.350000000000001, 12.8, 11.350000000000001, 12.8, 11.350000000000001, 12.8, 11.350000000000001, 12.8, 11.350000000000001, 12.8, 11.350000000000001, 11.350000000000001, 14.8, 13.8, 14.8, 14.8, 14.8, 14.8, 13.8, 14.8, 13.8, 13.8, 13.8, 14.8, 14.8, 14.8, 13.8, 11.8, 11.8, 13.8, 11.8, 13.8, 11.8, 13.350000000000001, 11.8, 11.8, 11.8, 11.8, 17.700000000000003, 18.700000000000003, 18.700000000000003, 18.700000000000003, 16.25, 17.700000000000003, 16.25, 17.700000000000003, 16.25, 17.700000000000003, 17.700000000000003, 18.700000000000003, 16.25, 17.700000000000003, 17.700000000000003, 18.700000000000003, 16.25, 17.700000000000003, 17.700000000000003, 17.700000000000003, 18.700000000000003, 15.25, 17.700000000000003, 13.8, 18.700000000000003, 17.700000000000003, 18.700000000000003, 15.25, 17.700000000000003, 13.8, 17.700000000000003, 18.700000000000003, 16.25, 17.700000000000003, 17.700000000000003, 18.25, 17.700000000000003, 18.25, 13.8, 13.8, 19.700000000000003, 17.700000000000003, 18.25, 19.700000000000003, 17.700000000000003, 18.700000000000003, 18.25, 17.700000000000003, 17.700000000000003, 18.700000000000003, 18.25, 16.25, 17.700000000000003, 18.700000000000003, 18.25, 17.700000000000003, 19.700000000000003, 17.700000000000003, 17.700000000000003, 16.25, 19.700000000000003, 18.25, 18.700000000000003, 16.25, 17.700000000000003, 18.700000000000003, 18.25, 17.700000000000003, 17.700000000000003, 18.700000000000003, 16.25, 17.700000000000003, 19.700000000000003, 18.700000000000003, 17.700000000000003, 17.700000000000003, 18.700000000000003, 16.25, 17.700000000000003, 15.25, 13.8, 15.25, 15.8, 15.8, 16.700000000000003, 16.8, 15.8, 16.700000000000003, 16.8, 17.700000000000003, 15.8, 16.700000000000003, 15.8, 16.8, 15.8, 16.8, 17.700000000000003, 15.8, 16.700000000000003, 15.8, 16.8, 17.700000000000003, 16.700000000000003, 15.8, 16.700000000000003, 16.8, 17.700000000000003, 15.8, 16.8, 16.700000000000003, 15.8, 16.8, 17.700000000000003, 16.700000000000003, 16.8, 17.700000000000003, 16.700000000000003, 16.8, 15.8, 15.8, 16.8, 17.700000000000003, 16.700000000000003, 15.8, 16.700000000000003, 15.8, 17.700000000000003, 16.700000000000003, 16.8, 17.700000000000003, 16.700000000000003, 16.700000000000003, 15.8, 17.700000000000003, 11.8, 16.700000000000003, 17.700000000000003, 16.700000000000003, 15.8, 13.8, 30.5, 32.5, 31.500000000000004, 31.500000000000004, 16.700000000000003, 16.700000000000003, 16.700000000000003, 15.25, 15.25, 15.25], \"yaxis\": \"y\"}, {\"marker\": {\"color\": \"rgb(0,150,207)\", \"size\": 7.5}, \"mode\": \"markers\", \"name\": \"Fuel Type=E85\", \"showlegend\": true, \"textfont\": {\"color\": \"rgb(0,30,66)\"}, \"textposition\": \"bottom center\", \"type\": \"scatter\", \"x\": [240, 240, 240, 240, 240, 240, 240, 240, 240, 240, 240, 240, 240, 310, 310, 310, 310, 310, 310, 310, 310, 310, 310, 310, 310, 310, 310, 310, 310, 310, 310, 310, 310, 310, 224, 225, 225, 255, 225, 255, 255, 255, 255, 225, 255, 255, 225, 255, 255, 225, 225, 255, 255, 255, 225, 255, 255, 255, 255, 255, 360, 360, 360, 360, 360, 360, 360, 360, 360, 360, 302, 360, 302, 360, 360, 360, 302, 302, 360, 360, 302, 360, 360, 360, 302, 360, 360, 302, 360, 360, 302, 360, 360, 310, 310, 310, 310, 310, 310, 310, 310, 310, 310, 310, 310, 310, 310, 310, 310, 310, 310, 310, 310, 310, 310], \"xaxis\": \"x\", \"y\": [15.700000000000001, 17.150000000000002, 15.700000000000001, 17.150000000000002, 16.15, 15.25, 16.25, 14.8, 16.25, 14.8, 14.8, 14.8, 14.8, 12.25, 12.25, 10.8, 12.25, 12.25, 10.8, 10.8, 12.25, 10.8, 12.25, 10.8, 10.8, 10.8, 10.8, 10.8, 10.8, 10.8, 10.8, 10.8, 10.8, 10.8, 14.25, 10.350000000000001, 10.350000000000001, 10.350000000000001, 10.350000000000001, 10.350000000000001, 9.9, 9.9, 10.350000000000001, 10.350000000000001, 10.350000000000001, 10.350000000000001, 10.9, 10.350000000000001, 10.350000000000001, 10.350000000000001, 10.350000000000001, 10.350000000000001, 10.350000000000001, 10.350000000000001, 10.9, 10.350000000000001, 10.350000000000001, 10.350000000000001, 10.350000000000001, 10.350000000000001, 12.8, 12.8, 12.8, 11.8, 11.8, 11.8, 12.8, 12.8, 12.8, 11.8, 14.25, 11.8, 14.25, 11.8, 11.8, 11.8, 14.25, 14.25, 12.8, 11.8, 14.25, 11.8, 12.8, 11.8, 14.25, 12.8, 11.8, 14.25, 12.8, 11.8, 14.25, 12.8, 11.8, 11.350000000000001, 11.350000000000001, 11.8, 11.8, 11.350000000000001, 11.350000000000001, 11.8, 11.350000000000001, 11.350000000000001, 11.350000000000001, 11.350000000000001, 11.8, 11.8, 11.8, 11.8, 11.8, 11.8, 10.8, 10.8, 10.8, 10.8, 10.8], \"yaxis\": \"y\"}],                        {\"annotations\": [{\"font\": {\"size\": 16}, \"showarrow\": false, \"text\": \"Horsepower\", \"x\": 0.5, \"xanchor\": \"center\", \"xref\": \"paper\", \"y\": 0, \"yanchor\": \"top\", \"yref\": \"paper\", \"yshift\": -30}], \"height\": 500, \"showlegend\": true, \"template\": {\"data\": {\"bar\": [{\"error_x\": {\"color\": \"#2a3f5f\"}, \"error_y\": {\"color\": \"#2a3f5f\"}, \"marker\": {\"line\": {\"color\": \"#E5ECF6\", \"width\": 0.5}}, \"type\": \"bar\"}], \"barpolar\": [{\"marker\": {\"line\": {\"color\": \"#E5ECF6\", \"width\": 0.5}}, \"type\": \"barpolar\"}], \"carpet\": [{\"aaxis\": {\"endlinecolor\": \"#2a3f5f\", \"gridcolor\": \"white\", \"linecolor\": \"white\", \"minorgridcolor\": \"white\", \"startlinecolor\": \"#2a3f5f\"}, \"baxis\": {\"endlinecolor\": \"#2a3f5f\", \"gridcolor\": \"white\", \"linecolor\": \"white\", \"minorgridcolor\": \"white\", \"startlinecolor\": \"#2a3f5f\"}, \"type\": \"carpet\"}], \"choropleth\": [{\"colorbar\": {\"outlinewidth\": 0, \"ticks\": \"\"}, \"type\": \"choropleth\"}], \"contour\": [{\"colorbar\": {\"outlinewidth\": 0, \"ticks\": \"\"}, \"colorscale\": [[0.0, \"#0d0887\"], [0.1111111111111111, \"#46039f\"], [0.2222222222222222, \"#7201a8\"], [0.3333333333333333, \"#9c179e\"], [0.4444444444444444, \"#bd3786\"], [0.5555555555555556, \"#d8576b\"], [0.6666666666666666, \"#ed7953\"], [0.7777777777777778, \"#fb9f3a\"], [0.8888888888888888, \"#fdca26\"], [1.0, \"#f0f921\"]], \"type\": \"contour\"}], \"contourcarpet\": [{\"colorbar\": {\"outlinewidth\": 0, \"ticks\": \"\"}, \"type\": \"contourcarpet\"}], \"heatmap\": [{\"colorbar\": {\"outlinewidth\": 0, \"ticks\": \"\"}, \"colorscale\": [[0.0, \"#0d0887\"], [0.1111111111111111, \"#46039f\"], [0.2222222222222222, \"#7201a8\"], [0.3333333333333333, \"#9c179e\"], [0.4444444444444444, \"#bd3786\"], [0.5555555555555556, \"#d8576b\"], [0.6666666666666666, \"#ed7953\"], [0.7777777777777778, \"#fb9f3a\"], [0.8888888888888888, \"#fdca26\"], [1.0, \"#f0f921\"]], \"type\": \"heatmap\"}], \"heatmapgl\": [{\"colorbar\": {\"outlinewidth\": 0, \"ticks\": \"\"}, \"colorscale\": [[0.0, \"#0d0887\"], [0.1111111111111111, \"#46039f\"], [0.2222222222222222, \"#7201a8\"], [0.3333333333333333, \"#9c179e\"], [0.4444444444444444, \"#bd3786\"], [0.5555555555555556, \"#d8576b\"], [0.6666666666666666, \"#ed7953\"], [0.7777777777777778, \"#fb9f3a\"], [0.8888888888888888, \"#fdca26\"], [1.0, \"#f0f921\"]], \"type\": \"heatmapgl\"}], \"histogram\": [{\"marker\": {\"colorbar\": {\"outlinewidth\": 0, \"ticks\": \"\"}}, \"type\": \"histogram\"}], \"histogram2d\": [{\"colorbar\": {\"outlinewidth\": 0, \"ticks\": \"\"}, \"colorscale\": [[0.0, \"#0d0887\"], [0.1111111111111111, \"#46039f\"], [0.2222222222222222, \"#7201a8\"], [0.3333333333333333, \"#9c179e\"], [0.4444444444444444, \"#bd3786\"], [0.5555555555555556, \"#d8576b\"], [0.6666666666666666, \"#ed7953\"], [0.7777777777777778, \"#fb9f3a\"], [0.8888888888888888, \"#fdca26\"], [1.0, \"#f0f921\"]], \"type\": \"histogram2d\"}], \"histogram2dcontour\": [{\"colorbar\": {\"outlinewidth\": 0, \"ticks\": \"\"}, \"colorscale\": [[0.0, \"#0d0887\"], [0.1111111111111111, \"#46039f\"], [0.2222222222222222, \"#7201a8\"], [0.3333333333333333, \"#9c179e\"], [0.4444444444444444, \"#bd3786\"], [0.5555555555555556, \"#d8576b\"], [0.6666666666666666, \"#ed7953\"], [0.7777777777777778, \"#fb9f3a\"], [0.8888888888888888, \"#fdca26\"], [1.0, \"#f0f921\"]], \"type\": \"histogram2dcontour\"}], \"mesh3d\": [{\"colorbar\": {\"outlinewidth\": 0, \"ticks\": \"\"}, \"type\": \"mesh3d\"}], \"parcoords\": [{\"line\": {\"colorbar\": {\"outlinewidth\": 0, \"ticks\": \"\"}}, \"type\": \"parcoords\"}], \"pie\": [{\"automargin\": true, \"type\": \"pie\"}], \"scatter\": [{\"marker\": {\"colorbar\": {\"outlinewidth\": 0, \"ticks\": \"\"}}, \"type\": \"scatter\"}], \"scatter3d\": [{\"line\": {\"colorbar\": {\"outlinewidth\": 0, \"ticks\": \"\"}}, \"marker\": {\"colorbar\": {\"outlinewidth\": 0, \"ticks\": \"\"}}, \"type\": \"scatter3d\"}], \"scattercarpet\": [{\"marker\": {\"colorbar\": {\"outlinewidth\": 0, \"ticks\": \"\"}}, \"type\": \"scattercarpet\"}], \"scattergeo\": [{\"marker\": {\"colorbar\": {\"outlinewidth\": 0, \"ticks\": \"\"}}, \"type\": \"scattergeo\"}], \"scattergl\": [{\"marker\": {\"colorbar\": {\"outlinewidth\": 0, \"ticks\": \"\"}}, \"type\": \"scattergl\"}], \"scattermapbox\": [{\"marker\": {\"colorbar\": {\"outlinewidth\": 0, \"ticks\": \"\"}}, \"type\": \"scattermapbox\"}], \"scatterpolar\": [{\"marker\": {\"colorbar\": {\"outlinewidth\": 0, \"ticks\": \"\"}}, \"type\": \"scatterpolar\"}], \"scatterpolargl\": [{\"marker\": {\"colorbar\": {\"outlinewidth\": 0, \"ticks\": \"\"}}, \"type\": \"scatterpolargl\"}], \"scatterternary\": [{\"marker\": {\"colorbar\": {\"outlinewidth\": 0, \"ticks\": \"\"}}, \"type\": \"scatterternary\"}], \"surface\": [{\"colorbar\": {\"outlinewidth\": 0, \"ticks\": \"\"}, \"colorscale\": [[0.0, \"#0d0887\"], [0.1111111111111111, \"#46039f\"], [0.2222222222222222, \"#7201a8\"], [0.3333333333333333, \"#9c179e\"], [0.4444444444444444, \"#bd3786\"], [0.5555555555555556, \"#d8576b\"], [0.6666666666666666, \"#ed7953\"], [0.7777777777777778, \"#fb9f3a\"], [0.8888888888888888, \"#fdca26\"], [1.0, \"#f0f921\"]], \"type\": \"surface\"}], \"table\": [{\"cells\": {\"fill\": {\"color\": \"#EBF0F8\"}, \"line\": {\"color\": \"white\"}}, \"header\": {\"fill\": {\"color\": \"#C8D4E3\"}, \"line\": {\"color\": \"white\"}}, \"type\": \"table\"}]}, \"layout\": {\"annotationdefaults\": {\"arrowcolor\": \"#2a3f5f\", \"arrowhead\": 0, \"arrowwidth\": 1}, \"autotypenumbers\": \"strict\", \"coloraxis\": {\"colorbar\": {\"outlinewidth\": 0, \"ticks\": \"\"}}, \"colorscale\": {\"diverging\": [[0, \"#8e0152\"], [0.1, \"#c51b7d\"], [0.2, \"#de77ae\"], [0.3, \"#f1b6da\"], [0.4, \"#fde0ef\"], [0.5, \"#f7f7f7\"], [0.6, \"#e6f5d0\"], [0.7, \"#b8e186\"], [0.8, \"#7fbc41\"], [0.9, \"#4d9221\"], [1, \"#276419\"]], \"sequential\": [[0.0, \"#0d0887\"], [0.1111111111111111, \"#46039f\"], [0.2222222222222222, \"#7201a8\"], [0.3333333333333333, \"#9c179e\"], [0.4444444444444444, \"#bd3786\"], [0.5555555555555556, \"#d8576b\"], [0.6666666666666666, \"#ed7953\"], [0.7777777777777778, \"#fb9f3a\"], [0.8888888888888888, \"#fdca26\"], [1.0, \"#f0f921\"]], \"sequentialminus\": [[0.0, \"#0d0887\"], [0.1111111111111111, \"#46039f\"], [0.2222222222222222, \"#7201a8\"], [0.3333333333333333, \"#9c179e\"], [0.4444444444444444, \"#bd3786\"], [0.5555555555555556, \"#d8576b\"], [0.6666666666666666, \"#ed7953\"], [0.7777777777777778, \"#fb9f3a\"], [0.8888888888888888, \"#fdca26\"], [1.0, \"#f0f921\"]]}, \"colorway\": [\"#636efa\", \"#EF553B\", \"#00cc96\", \"#ab63fa\", \"#FFA15A\", \"#19d3f3\", \"#FF6692\", \"#B6E880\", \"#FF97FF\", \"#FECB52\"], \"font\": {\"color\": \"#2a3f5f\"}, \"geo\": {\"bgcolor\": \"white\", \"lakecolor\": \"white\", \"landcolor\": \"#E5ECF6\", \"showlakes\": true, \"showland\": true, \"subunitcolor\": \"white\"}, \"hoverlabel\": {\"align\": \"left\"}, \"hovermode\": \"closest\", \"mapbox\": {\"style\": \"light\"}, \"paper_bgcolor\": \"white\", \"plot_bgcolor\": \"#E5ECF6\", \"polar\": {\"angularaxis\": {\"gridcolor\": \"white\", \"linecolor\": \"white\", \"ticks\": \"\"}, \"bgcolor\": \"#E5ECF6\", \"radialaxis\": {\"gridcolor\": \"white\", \"linecolor\": \"white\", \"ticks\": \"\"}}, \"scene\": {\"xaxis\": {\"backgroundcolor\": \"#E5ECF6\", \"gridcolor\": \"white\", \"gridwidth\": 2, \"linecolor\": \"white\", \"showbackground\": true, \"ticks\": \"\", \"zerolinecolor\": \"white\"}, \"yaxis\": {\"backgroundcolor\": \"#E5ECF6\", \"gridcolor\": \"white\", \"gridwidth\": 2, \"linecolor\": \"white\", \"showbackground\": true, \"ticks\": \"\", \"zerolinecolor\": \"white\"}, \"zaxis\": {\"backgroundcolor\": \"#E5ECF6\", \"gridcolor\": \"white\", \"gridwidth\": 2, \"linecolor\": \"white\", \"showbackground\": true, \"ticks\": \"\", \"zerolinecolor\": \"white\"}}, \"shapedefaults\": {\"line\": {\"color\": \"#2a3f5f\"}}, \"ternary\": {\"aaxis\": {\"gridcolor\": \"white\", \"linecolor\": \"white\", \"ticks\": \"\"}, \"baxis\": {\"gridcolor\": \"white\", \"linecolor\": \"white\", \"ticks\": \"\"}, \"bgcolor\": \"#E5ECF6\", \"caxis\": {\"gridcolor\": \"white\", \"linecolor\": \"white\", \"ticks\": \"\"}}, \"title\": {\"x\": 0.05}, \"xaxis\": {\"automargin\": true, \"gridcolor\": \"white\", \"linecolor\": \"white\", \"ticks\": \"\", \"title\": {\"standoff\": 15}, \"zerolinecolor\": \"white\", \"zerolinewidth\": 2}, \"yaxis\": {\"automargin\": true, \"gridcolor\": \"white\", \"linecolor\": \"white\", \"ticks\": \"\", \"title\": {\"standoff\": 15}, \"zerolinecolor\": \"white\", \"zerolinewidth\": 2}}}, \"title\": {\"text\": \"Relationship between Combined MPG and Horsepower for Ford Cars\"}, \"width\": 800, \"xaxis\": {\"anchor\": \"y\", \"domain\": [0.0, 1.0]}, \"yaxis\": {\"anchor\": \"x\", \"domain\": [0.0, 1.0], \"title\": {\"text\": \"Combined MPG\"}}},                        {\"responsive\": true}                    )                };                            </script>        </div>\n"
     ]
    }
   ],
   "source": [
    " import plotly\n",
    " print(plotly.offline.plot(fig, include_plotlyjs=False, output_type='div'))"
   ]
  },
  {
   "cell_type": "code",
   "execution_count": null,
   "metadata": {},
   "outputs": [],
   "source": []
  },
  {
   "cell_type": "code",
   "execution_count": null,
   "metadata": {},
   "outputs": [],
   "source": []
  },
  {
   "cell_type": "code",
   "execution_count": 13,
   "metadata": {},
   "outputs": [
    {
     "ename": "ValueError",
     "evalue": "label \"Make\" not in labels ('Highway MPG',)",
     "output_type": "error",
     "traceback": [
      "\u001b[0;31m---------------------------------------------------------------------------\u001b[0m",
      "\u001b[0;31mValueError\u001b[0m                                Traceback (most recent call last)",
      "\u001b[0;32m<ipython-input-13-0e29e475430f>\u001b[0m in \u001b[0;36m<module>\u001b[0;34m\u001b[0m\n\u001b[0;32m----> 1\u001b[0;31m \u001b[0mcars_updated\u001b[0m\u001b[0;34m.\u001b[0m\u001b[0mselect\u001b[0m\u001b[0;34m(\u001b[0m\u001b[0;34m'Highway MPG'\u001b[0m\u001b[0;34m)\u001b[0m\u001b[0;34m.\u001b[0m\u001b[0mwhere\u001b[0m\u001b[0;34m(\u001b[0m\u001b[0;34m'Make'\u001b[0m\u001b[0;34m,\u001b[0m\u001b[0;34m'Audi'\u001b[0m\u001b[0;34m)\u001b[0m\u001b[0;34m\u001b[0m\u001b[0;34m\u001b[0m\u001b[0m\n\u001b[0m",
      "\u001b[0;32m/opt/conda/lib/python3.8/site-packages/datascience/tables.py\u001b[0m in \u001b[0;36mwhere\u001b[0;34m(self, column_or_label, value_or_predicate, other)\u001b[0m\n\u001b[1;32m   1334\u001b[0m         \u001b[0mColor\u001b[0m \u001b[0;34m|\u001b[0m \u001b[0mShape\u001b[0m \u001b[0;34m|\u001b[0m \u001b[0mAmount\u001b[0m \u001b[0;34m|\u001b[0m \u001b[0mPrice\u001b[0m\u001b[0;34m\u001b[0m\u001b[0;34m\u001b[0m\u001b[0m\n\u001b[1;32m   1335\u001b[0m         \"\"\"\n\u001b[0;32m-> 1336\u001b[0;31m         \u001b[0mcolumn\u001b[0m \u001b[0;34m=\u001b[0m \u001b[0mself\u001b[0m\u001b[0;34m.\u001b[0m\u001b[0m_get_column\u001b[0m\u001b[0;34m(\u001b[0m\u001b[0mcolumn_or_label\u001b[0m\u001b[0;34m)\u001b[0m\u001b[0;34m\u001b[0m\u001b[0;34m\u001b[0m\u001b[0m\n\u001b[0m\u001b[1;32m   1337\u001b[0m         \u001b[0;32mif\u001b[0m \u001b[0mother\u001b[0m \u001b[0;32mis\u001b[0m \u001b[0;32mnot\u001b[0m \u001b[0;32mNone\u001b[0m\u001b[0;34m:\u001b[0m\u001b[0;34m\u001b[0m\u001b[0;34m\u001b[0m\u001b[0m\n\u001b[1;32m   1338\u001b[0m             \u001b[0;32massert\u001b[0m \u001b[0mcallable\u001b[0m\u001b[0;34m(\u001b[0m\u001b[0mvalue_or_predicate\u001b[0m\u001b[0;34m)\u001b[0m\u001b[0;34m,\u001b[0m \u001b[0;34m\"Predicate required for 3-arg where\"\u001b[0m\u001b[0;34m\u001b[0m\u001b[0;34m\u001b[0m\u001b[0m\n",
      "\u001b[0;32m/opt/conda/lib/python3.8/site-packages/datascience/tables.py\u001b[0m in \u001b[0;36m_get_column\u001b[0;34m(self, column_or_label)\u001b[0m\n\u001b[1;32m   1995\u001b[0m             \u001b[0;32mreturn\u001b[0m \u001b[0mself\u001b[0m\u001b[0;34m[\u001b[0m\u001b[0mc\u001b[0m\u001b[0;34m]\u001b[0m\u001b[0;34m\u001b[0m\u001b[0;34m\u001b[0m\u001b[0m\n\u001b[1;32m   1996\u001b[0m         \u001b[0;32melif\u001b[0m \u001b[0misinstance\u001b[0m\u001b[0;34m(\u001b[0m\u001b[0mc\u001b[0m\u001b[0;34m,\u001b[0m \u001b[0mstr\u001b[0m\u001b[0;34m)\u001b[0m\u001b[0;34m:\u001b[0m\u001b[0;34m\u001b[0m\u001b[0;34m\u001b[0m\u001b[0m\n\u001b[0;32m-> 1997\u001b[0;31m             \u001b[0;32mraise\u001b[0m \u001b[0mValueError\u001b[0m\u001b[0;34m(\u001b[0m\u001b[0;34m'label \"{}\" not in labels {}'\u001b[0m\u001b[0;34m.\u001b[0m\u001b[0mformat\u001b[0m\u001b[0;34m(\u001b[0m\u001b[0mc\u001b[0m\u001b[0;34m,\u001b[0m \u001b[0mself\u001b[0m\u001b[0;34m.\u001b[0m\u001b[0mlabels\u001b[0m\u001b[0;34m)\u001b[0m\u001b[0;34m)\u001b[0m\u001b[0;34m\u001b[0m\u001b[0;34m\u001b[0m\u001b[0m\n\u001b[0m\u001b[1;32m   1998\u001b[0m         \u001b[0;32melse\u001b[0m\u001b[0;34m:\u001b[0m\u001b[0;34m\u001b[0m\u001b[0;34m\u001b[0m\u001b[0m\n\u001b[1;32m   1999\u001b[0m             \u001b[0;32massert\u001b[0m \u001b[0mlen\u001b[0m\u001b[0;34m(\u001b[0m\u001b[0mc\u001b[0m\u001b[0;34m)\u001b[0m \u001b[0;34m==\u001b[0m \u001b[0mself\u001b[0m\u001b[0;34m.\u001b[0m\u001b[0mnum_rows\u001b[0m\u001b[0;34m,\u001b[0m \u001b[0;34m'column length mismatch'\u001b[0m\u001b[0;34m\u001b[0m\u001b[0;34m\u001b[0m\u001b[0m\n",
      "\u001b[0;31mValueError\u001b[0m: label \"Make\" not in labels ('Highway MPG',)"
     ]
    }
   ],
   "source": [
    "cars_updated.select('Highway MPG').where('Make','Audi')\n"
   ]
  },
  {
   "cell_type": "code",
   "execution_count": null,
   "metadata": {},
   "outputs": [],
   "source": [
    "cars_updated.group('Make')"
   ]
  },
  {
   "cell_type": "code",
   "execution_count": null,
   "metadata": {},
   "outputs": [],
   "source": []
  },
  {
   "cell_type": "code",
   "execution_count": null,
   "metadata": {},
   "outputs": [],
   "source": []
  },
  {
   "cell_type": "code",
   "execution_count": null,
   "metadata": {},
   "outputs": [],
   "source": []
  }
 ],
 "metadata": {
  "kernelspec": {
   "display_name": "Python 3",
   "language": "python",
   "name": "python3"
  },
  "language_info": {
   "codemirror_mode": {
    "name": "ipython",
    "version": 3
   },
   "file_extension": ".py",
   "mimetype": "text/x-python",
   "name": "python",
   "nbconvert_exporter": "python",
   "pygments_lexer": "ipython3",
   "version": "3.8.8"
  }
 },
 "nbformat": 4,
 "nbformat_minor": 4
}
